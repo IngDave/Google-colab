{
  "nbformat": 4,
  "nbformat_minor": 0,
  "metadata": {
    "colab": {
      "provenance": [],
      "toc_visible": true,
      "authorship_tag": "ABX9TyP/Wq0TZh9Et9gHSu6pBZ65",
      "include_colab_link": true
    },
    "kernelspec": {
      "name": "python3",
      "display_name": "Python 3"
    },
    "language_info": {
      "name": "python"
    }
  },
  "cells": [
    {
      "cell_type": "markdown",
      "metadata": {
        "id": "view-in-github",
        "colab_type": "text"
      },
      "source": [
        "<a href=\"https://colab.research.google.com/github/IngDave/Google-colab/blob/main/factorial.ipynb\" target=\"_parent\"><img src=\"https://colab.research.google.com/assets/colab-badge.svg\" alt=\"Open In Colab\"/></a>"
      ]
    },
    {
      "cell_type": "code",
      "source": [
        "import math\n",
        "#generamos una entrada para la variable data\n",
        "data = int(input(\"Ingrese un numero para calcular factorial: \\n >> \"))\n",
        "# tilizamos math para llamar la funcion de factorial de la libreria\n",
        "factorial = math.factorial(data)\n",
        "# mostramos el resultado en pantalla\n",
        "print(f\"Cargando factorial . . .\", factorial)\n",
        "\n"
      ],
      "metadata": {
        "colab": {
          "base_uri": "https://localhost:8080/"
        },
        "id": "_xthZ0QN7ntC",
        "outputId": "b38a9523-139c-489d-e713-ed7f92d83e54"
      },
      "execution_count": 2,
      "outputs": [
        {
          "output_type": "stream",
          "name": "stdout",
          "text": [
            "Ingrese un numero para calcular factorial: \n",
            " >> 12\n",
            "Cargando factorial . . . 479001600\n"
          ]
        }
      ]
    }
  ]
}